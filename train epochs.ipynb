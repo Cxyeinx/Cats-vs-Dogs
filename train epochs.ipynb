{
 "cells": [
  {
   "cell_type": "code",
   "execution_count": 12,
   "id": "revised-jewel",
   "metadata": {},
   "outputs": [],
   "source": [
    "import tensorflow as tf\n",
    "import matplotlib.pyplot as plt\n",
    "import numpy as np\n",
    "from tensorflow.keras.preprocessing.image import ImageDataGenerator\n",
    "from tensorflow.keras.models import Sequential\n",
    "from tensorflow.nn import relu, softmax\n",
    "from tensorflow.keras.layers import Dense, Flatten, Conv2D, MaxPooling2D"
   ]
  },
  {
   "cell_type": "code",
   "execution_count": 13,
   "id": "metallic-continent",
   "metadata": {},
   "outputs": [],
   "source": [
    "train_path = \"./data/train\"\n",
    "test_path = \"./data/test\""
   ]
  },
  {
   "cell_type": "code",
   "execution_count": 14,
   "id": "referenced-surprise",
   "metadata": {
    "scrolled": true
   },
   "outputs": [],
   "source": [
    "train_data_gen = ImageDataGenerator(rescale=1/255,\n",
    "                                  zoom_range=0.2,\n",
    "                                  horizontal_flip=True)\n",
    "test_data_gen = ImageDataGenerator(rescale=1/255)"
   ]
  },
  {
   "cell_type": "code",
   "execution_count": 15,
   "id": "patent-edition",
   "metadata": {},
   "outputs": [
    {
     "name": "stdout",
     "output_type": "stream",
     "text": [
      "Found 23998 images belonging to 2 classes.\n",
      "Found 1000 images belonging to 2 classes.\n"
     ]
    }
   ],
   "source": [
    "train_dataset = train_data_gen.flow_from_directory(train_path,\n",
    "                                                   color_mode=\"grayscale\",\n",
    "                                                  target_size=(256,256),\n",
    "                                                  batch_size=32,\n",
    "                                                  shuffle=True)\n",
    "test_dataset = test_data_gen.flow_from_directory(test_path,\n",
    "                                                 color_mode=\"grayscale\",\n",
    "                                                target_size=(256,256),\n",
    "                                                batch_size=32,\n",
    "                                                shuffle=True)"
   ]
  },
  {
   "cell_type": "code",
   "execution_count": 16,
   "id": "racial-fellowship",
   "metadata": {},
   "outputs": [],
   "source": [
    "model = tf.keras.models.load_model(\"model.model\")"
   ]
  },
  {
   "cell_type": "code",
   "execution_count": 17,
   "id": "persistent-yugoslavia",
   "metadata": {},
   "outputs": [
    {
     "name": "stdout",
     "output_type": "stream",
     "text": [
      "Epoch 1/10\n",
      "750/750 [==============================] - 1495s 2s/step - loss: 0.3865 - accuracy: 0.8264\n",
      "Epoch 2/10\n",
      "750/750 [==============================] - 1489s 2s/step - loss: 0.3641 - accuracy: 0.8386\n",
      "Epoch 3/10\n",
      "750/750 [==============================] - 1490s 2s/step - loss: 0.3475 - accuracy: 0.8481\n",
      "Epoch 4/10\n",
      "750/750 [==============================] - 1486s 2s/step - loss: 0.3294 - accuracy: 0.8536\n",
      "Epoch 5/10\n",
      "750/750 [==============================] - 1484s 2s/step - loss: 0.3130 - accuracy: 0.8628\n",
      "Epoch 6/10\n",
      "750/750 [==============================] - 1487s 2s/step - loss: 0.2977 - accuracy: 0.8721\n",
      "Epoch 7/10\n",
      "750/750 [==============================] - 1490s 2s/step - loss: 0.2883 - accuracy: 0.8769\n",
      "Epoch 8/10\n",
      "750/750 [==============================] - 1486s 2s/step - loss: 0.2752 - accuracy: 0.8824\n",
      "Epoch 9/10\n",
      "750/750 [==============================] - 1480s 2s/step - loss: 0.2660 - accuracy: 0.8862\n",
      "Epoch 10/10\n",
      "750/750 [==============================] - 1477s 2s/step - loss: 0.2537 - accuracy: 0.8953\n"
     ]
    },
    {
     "data": {
      "text/plain": [
       "<tensorflow.python.keras.callbacks.History at 0x7f86c822cf40>"
      ]
     },
     "execution_count": 17,
     "metadata": {},
     "output_type": "execute_result"
    }
   ],
   "source": [
    "model.fit(train_dataset, batch_size=32, epochs=10)"
   ]
  },
  {
   "cell_type": "code",
   "execution_count": 18,
   "id": "polish-fighter",
   "metadata": {},
   "outputs": [
    {
     "name": "stdout",
     "output_type": "stream",
     "text": [
      "INFO:tensorflow:Assets written to: model.model/assets\n"
     ]
    }
   ],
   "source": [
    "model.save(\"model.model\")"
   ]
  },
  {
   "cell_type": "code",
   "execution_count": null,
   "id": "cosmetic-clearing",
   "metadata": {},
   "outputs": [],
   "source": []
  },
  {
   "cell_type": "code",
   "execution_count": null,
   "id": "catholic-technical",
   "metadata": {},
   "outputs": [],
   "source": []
  }
 ],
 "metadata": {
  "kernelspec": {
   "display_name": "Python 3",
   "language": "python",
   "name": "python3"
  },
  "language_info": {
   "codemirror_mode": {
    "name": "ipython",
    "version": 3
   },
   "file_extension": ".py",
   "mimetype": "text/x-python",
   "name": "python",
   "nbconvert_exporter": "python",
   "pygments_lexer": "ipython3",
   "version": "3.8.5"
  }
 },
 "nbformat": 4,
 "nbformat_minor": 5
}
